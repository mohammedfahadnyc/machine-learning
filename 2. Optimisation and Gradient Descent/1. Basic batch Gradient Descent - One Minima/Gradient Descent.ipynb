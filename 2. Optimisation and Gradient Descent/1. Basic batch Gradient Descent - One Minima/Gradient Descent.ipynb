{
 "cells": [
  {
   "cell_type": "markdown",
   "id": "347f55e2-a1e7-48a5-af22-0f98c4dbc6d9",
   "metadata": {
    "tags": []
   },
   "source": [
    "### Notebook Imports and Packages"
   ]
  },
  {
   "cell_type": "code",
   "execution_count": null,
   "id": "82057587-2f0c-48d5-9e43-489cec17505a",
   "metadata": {},
   "outputs": [],
   "source": [
    "from matplotlib import pyplot as plt\n",
    "import numpy as np"
   ]
  },
  {
   "cell_type": "markdown",
   "id": "b9f7b180-f0bf-4423-bbdf-0811e4275fa5",
   "metadata": {},
   "source": [
    "### Example 1 - A Simple Cost Function\n",
    "$f(x) = x^2 + x + 1 $"
   ]
  },
  {
   "cell_type": "code",
   "execution_count": null,
   "id": "d4e3084c-8bae-4f2d-a99c-27c946a8bbb0",
   "metadata": {},
   "outputs": [],
   "source": [
    "def f(x):\n",
    "    return x**2 + x + 1"
   ]
  },
  {
   "cell_type": "markdown",
   "id": "3f402ebe-7340-4191-a9f5-29ab23a62a6f",
   "metadata": {},
   "source": [
    "### Generating Data using NumPy"
   ]
  },
  {
   "cell_type": "code",
   "execution_count": null,
   "id": "eebdb0f8-ee0e-41ae-bbd5-fecd27dc8c20",
   "metadata": {},
   "outputs": [],
   "source": [
    "x_1 = np.linspace(start=-3,stop=3,num=100)"
   ]
  },
  {
   "cell_type": "markdown",
   "id": "6595f021-0ce8-4262-917e-f180bc37775c",
   "metadata": {},
   "source": [
    "### Plotting Data "
   ]
  },
  {
   "cell_type": "code",
   "execution_count": null,
   "id": "4360ebf3-7ea3-47ac-9aa7-036b7019b67d",
   "metadata": {},
   "outputs": [],
   "source": [
    "plt.plot(x_1,f(x_1))\n",
    "plt.xlim(-3,3)\n",
    "plt.ylim(0,8)\n",
    "plt.xlabel('X', fontsize = 16)\n",
    "plt.ylabel('f(x)', fontsize=16)"
   ]
  },
  {
   "cell_type": "markdown",
   "id": "87f8f223-b6f9-4001-8b1d-29d705b5c3c0",
   "metadata": {},
   "source": [
    "### Derivative of F(x)"
   ]
  },
  {
   "cell_type": "code",
   "execution_count": null,
   "id": "71cebb3a-4fbc-4d38-ab82-e287726bff82",
   "metadata": {},
   "outputs": [],
   "source": [
    "def df(x):\n",
    "    return 2*x+1"
   ]
  },
  {
   "cell_type": "markdown",
   "id": "058b327e-b990-4a68-ba40-d416ecb4e7f0",
   "metadata": {},
   "source": [
    "### Implementation of Gradient Descent Algorithm"
   ]
  },
  {
   "cell_type": "markdown",
   "id": "87b775d1",
   "metadata": {},
   "source": [
    "The Crux of this algorithm is that we move down the gradient,further we are from minima, steeper the gradient is and so our step_size or new_x - prev_x will be bigger, as we get closer to our minima, our gradient will be closer to 0 and so our step size will tend to get smaller and closer to 0 as well,and when we reach our precision point, we can safely say we have reached out minima."
   ]
  },
  {
   "cell_type": "code",
   "execution_count": null,
   "id": "a966d8b2-6b54-412d-bced-5764b1b36dc4",
   "metadata": {},
   "outputs": [],
   "source": [
    "# Gradient Descent Algorithm\n",
    "\n",
    "#Book keeping\n",
    "new_x = 3\n",
    "prev_x = 0\n",
    "steps_multiplier = 0.1\n",
    "precision = 0.0001\n",
    "new_x_list = [new_x]\n",
    "slopes_list = [df(new_x)]\n",
    "\n",
    "#The main algorithm\n",
    "while (True):\n",
    "    \n",
    "    prev_x = new_x\n",
    "    gradient = df(prev_x)\n",
    "    new_x = prev_x - (gradient*steps_multiplier)\n",
    "    new_x_list.append(new_x)\n",
    "    slopes_list.append(df(new_x))\n",
    "    step_size = abs(prev_x - new_x)\n",
    "    if step_size < precision:\n",
    "        break\n",
    "        \n",
    "print(f\"Minima is {new_x}, Gradient is {df(new_x)}, Cost is {f(new_x)}, steps_taken: {len(new_x_list} \")"
   ]
  },
  {
   "cell_type": "markdown",
   "id": "89ec0329",
   "metadata": {},
   "source": [
    "## Visualizing Gradient Descent"
   ]
  },
  {
   "cell_type": "markdown",
   "id": "1ad5fc0e",
   "metadata": {},
   "source": [
    "In Chart 1, we show how our new_x moves across the function, so we plot our x_1 and f(x_1) first and then we scatter our new_x_list and f(new_x_list). Note that f() is a python function so wont run on list itself so we need to convert the list to nd array first, so scatter on new_x_list and f(np.array(new_x_list)).\n",
    "\n",
    "\n",
    "In Chart 2, we show how our new_x's gradient moved, so we plot first x_1 and df(x_1), and then we scatter our \n",
    "new_x_list and df(new_x_list), again df is a python function, so need to feed it an nd array first, so\n",
    "scatter new_x_list and df(np.array(new_x_list))."
   ]
  },
  {
   "cell_type": "code",
   "execution_count": null,
   "id": "8f2514d0",
   "metadata": {
    "scrolled": true
   },
   "outputs": [],
   "source": [
    "#Plot 1\n",
    "plt.figure(figsize=(15,5))\n",
    "plt.subplot(1,2,1)\n",
    "plt.plot(x_1,f(x_1))\n",
    "plt.scatter(new_x_list,f(np.array(new_x_list)),color=\"red\",s=100,alpha=0.6)\n",
    "\n",
    "\n",
    "\n",
    "#Plot2\n",
    "\n",
    "plt.subplot(1,2,2)\n",
    "plt.plot(x_1,df(x_1))\n",
    "plt.scatter(new_x_list,np.array(slopes_list),s=100,alpha=0.6,color=\"red\")\n",
    "plt.grid()"
   ]
  },
  {
   "cell_type": "markdown",
   "id": "3cec57ee",
   "metadata": {},
   "source": [
    "### previously we created the chart with all needed to visualize, below we beautify it and zoom a little bit"
   ]
  },
  {
   "cell_type": "code",
   "execution_count": null,
   "id": "3cc7928d",
   "metadata": {},
   "outputs": [],
   "source": [
    "# Chart 1 - Cost Function Visualising with showing how gradient descent moved our new_x across the plot \n",
    "# (new_x and the costwhich is f(new_x), both moved actually and we visualize that)\n",
    "plt.figure(figsize=(15,5))\n",
    "plt.subplot(1,2,1)\n",
    "plt.title(\"Cost Funtion\")\n",
    "plt.plot(x_1,f(x_1),color='blue',linewidth=3)\n",
    "plt.xlim(-3,3)\n",
    "plt.ylim(0,8)\n",
    "plt.xlabel('X', fontsize = 16)\n",
    "plt.ylabel('f(x)', fontsize=16)\n",
    "\n",
    "\n",
    "#showing gradient descent in the cost function\n",
    "plt.scatter(new_x_list,f(np.array(new_x_list)),color='red',s=100,alpha=0.6)\n",
    "\n",
    "\n",
    "\n",
    "\n",
    "\n",
    "# Chart 2 - Showing how our x_1 and its gradients and how the gradient descent algo moved our x_1 and gradients in this\n",
    "# plot\n",
    "plt.subplot(1,2,2)\n",
    "plt.title(\"Slope of the Cost Function \")\n",
    "plt.plot(x_1,df(x_1),color='skyblue',linewidth=3)\n",
    "plt.xlim(-3,3)\n",
    "plt.ylim(-6,7)\n",
    "plt.xlabel('X', fontsize = 16)\n",
    "plt.grid()\n",
    "plt.ylabel('Df(x)', fontsize=16)\n",
    "\n",
    "#showing gradient descent in the slope chart\n",
    "plt.scatter(new_x_list,df(np.array(new_x_list)),color='red',s=100,alpha=0.6)\n",
    "\n"
   ]
  },
  {
   "cell_type": "code",
   "execution_count": null,
   "id": "f8176037",
   "metadata": {},
   "outputs": [],
   "source": []
  }
 ],
 "metadata": {
  "kernelspec": {
   "display_name": "Python 3",
   "language": "python",
   "name": "python3"
  },
  "language_info": {
   "codemirror_mode": {
    "name": "ipython",
    "version": 3
   },
   "file_extension": ".py",
   "mimetype": "text/x-python",
   "name": "python",
   "nbconvert_exporter": "python",
   "pygments_lexer": "ipython3",
   "version": "3.9.6"
  }
 },
 "nbformat": 4,
 "nbformat_minor": 5
}

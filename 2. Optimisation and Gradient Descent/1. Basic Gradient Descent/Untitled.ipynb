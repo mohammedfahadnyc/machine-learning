{
 "cells": [
  {
   "cell_type": "code",
   "execution_count": 22,
   "id": "519c012a-e9d0-48b7-8df9-68797666dc1e",
   "metadata": {},
   "outputs": [],
   "source": [
    "import matplotlib.pyplot as plt\n",
    "import random\n",
    "import math\n",
    "import numpy as np"
   ]
  },
  {
   "cell_type": "code",
   "execution_count": 53,
   "id": "2623e9da-ddb6-4e09-9ba9-726337d5a5e7",
   "metadata": {},
   "outputs": [],
   "source": [
    "num = random.randint(100000000,5000000000)\n",
    "i = 1\n",
    "lista = []\n",
    "listb = []"
   ]
  },
  {
   "cell_type": "code",
   "execution_count": null,
   "id": "e350eaca-633d-4b56-b9d6-21813a3d28b3",
   "metadata": {},
   "outputs": [],
   "source": [
    "while num >= 2:\n",
    "    if num % 2 == 0 :\n",
    "        num = (num/2)\n",
    "    else :\n",
    "        num = ((num * 3)+1)\n",
    "    lista.append(num)\n",
    "    listb.append(i)\n",
    "    i+=1\n",
    "\n"
   ]
  },
  {
   "cell_type": "code",
   "execution_count": null,
   "id": "201a3b2b-831c-453b-895e-e9bc7c10d84f",
   "metadata": {},
   "outputs": [],
   "source": [
    "plt.scatter(lista,listb)\n"
   ]
  }
 ],
 "metadata": {
  "kernelspec": {
   "display_name": "Python 3",
   "language": "python",
   "name": "python3"
  },
  "language_info": {
   "codemirror_mode": {
    "name": "ipython",
    "version": 3
   },
   "file_extension": ".py",
   "mimetype": "text/x-python",
   "name": "python",
   "nbconvert_exporter": "python",
   "pygments_lexer": "ipython3",
   "version": "3.9.6"
  }
 },
 "nbformat": 4,
 "nbformat_minor": 5
}

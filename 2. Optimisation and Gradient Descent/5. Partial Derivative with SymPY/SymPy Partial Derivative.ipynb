{
 "cells": [
  {
   "cell_type": "markdown",
   "id": "d238dda7",
   "metadata": {},
   "source": [
    "## Data visualization - 3D Charts and 2 Variable Function"
   ]
  },
  {
   "cell_type": "markdown",
   "id": "466f3938",
   "metadata": {},
   "source": [
    "$$ f(x,y) = \\frac {1} {{3^{-x^2 - y^2}}+1} $$"
   ]
  },
  {
   "cell_type": "code",
   "execution_count": 1,
   "id": "74e53b9c",
   "metadata": {},
   "outputs": [],
   "source": [
    "def f(x,y):\n",
    "    r = 3**(-x**2 - y**2)\n",
    "    return 1/(r+1)"
   ]
  },
  {
   "cell_type": "markdown",
   "id": "09225c1e",
   "metadata": {},
   "source": [
    "## Populate x,y coordinates"
   ]
  },
  {
   "cell_type": "markdown",
   "id": "0c5d6e5c",
   "metadata": {},
   "source": [
    "### Partial Derivative & Symbolic Computation with Sympy"
   ]
  },
  {
   "cell_type": "code",
   "execution_count": 21,
   "id": "1db2e638",
   "metadata": {},
   "outputs": [
    {
     "data": {
      "text/latex": [
       "$\\displaystyle 9.33660426869108 \\cdot 10^{-14}$"
      ],
      "text/plain": [
       "9.33660426869108e-14"
      ]
     },
     "execution_count": 21,
     "metadata": {},
     "output_type": "execute_result"
    }
   ],
   "source": [
    "import sympy\n",
    "from sympy import symbols,diff\n",
    "\n",
    "a,b = symbols(\"x,y\")\n",
    "\n",
    "diff(f(a,b),b)     #derivative respect to y, so df/ dy\n",
    "\n",
    "f(a,b).evalf(subs={a:1.9,b:5})   #finding function value at (1.9,5) point\n",
    "\n",
    "\n",
    "#Find slope at point (1.9,5) with respect to x (so eavluate df/dx at this point)\n",
    "diff(f(a,b),a).evalf(subs={a:1.9,b:5})\n",
    "\n"
   ]
  }
 ],
 "metadata": {
  "kernelspec": {
   "display_name": "Python 3",
   "language": "python",
   "name": "python3"
  },
  "language_info": {
   "codemirror_mode": {
    "name": "ipython",
    "version": 3
   },
   "file_extension": ".py",
   "mimetype": "text/x-python",
   "name": "python",
   "nbconvert_exporter": "python",
   "pygments_lexer": "ipython3",
   "version": "3.9.6"
  }
 },
 "nbformat": 4,
 "nbformat_minor": 5
}
